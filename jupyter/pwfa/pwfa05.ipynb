{
 "cells": [
  {
   "cell_type": "markdown",
   "metadata": {},
   "source": [
    "<h1 align='center'> Simulation of a plasma wakefield accelerator (PWFA)</h1>\n",
    "<center>\n",
    "Stephen D. Webb and David Bruhwiler <br>\n",
    "RadiaSoft LLC <br>\n",
    "swebb@radiasoft.net and bruhwiler@radiasoft.net</center>\n",
    "\n",
    "Developed for a project supported by the United States Department of Energy, Office of Science, Office of High Energy Physics under contract number DE-SC0018718."
   ]
  },
  {
   "cell_type": "markdown",
   "metadata": {},
   "source": [
    "***\n",
    "## Introduction\n",
    "\n",
    "This notebook models a beam-driven plasma wakefield accelerator (PWFA) using nominal FACET-II parameters.\n",
    "\n",
    "Particle groups:\n",
    " - electron plasma\n",
    " - protons (optional)\n",
    " - electron drive beam\n",
    " - witness beam\n",
    "***"
   ]
  },
  {
   "cell_type": "code",
   "execution_count": 2,
   "metadata": {},
   "outputs": [],
   "source": [
    "from __future__ import print_function\n",
    "import shutil, os, h5py\n",
    "\n",
    "import numpy as np\n",
    "from scipy import constants\n",
    "from scipy.special import erfc, k0, k1\n",
    "\n",
    "# Imports specific to the FBPIC code\n",
    "from fbpic.main import Simulation\n",
    "from fbpic.openpmd_diag import FieldDiagnostic, ParticleDiagnostic, \\\n",
    "     ParticleChargeDensityDiagnostic,\\\n",
    "     set_periodic_checkpoint, restart_from_checkpoint\n",
    "from fbpic.lpa_utils.bunch import add_elec_bunch_gaussian\n",
    "from fbpic.fields.smoothing import BinomialSmoother"
   ]
  },
  {
   "cell_type": "markdown",
   "metadata": {},
   "source": [
    "***\n",
    "## Simulation Parameters\n",
    "\n",
    "The simulation uses a moving window, beginning with the drive bunch outside the plasma.\n",
    "\n",
    "The plasma has a density $n_e$, with the local plasma frequency given by $\\omega_p = \\sqrt{\\frac{4 \\pi n_e e^2}{m_e}}$ for the electron charge $e$ and mass $m_e$. The plasma wavenumber is $k_p = \\omega_p / c$."
   ]
  },
  {
   "cell_type": "code",
   "execution_count": 3,
   "metadata": {},
   "outputs": [
    {
     "name": "stdout",
     "output_type": "stream",
     "text": [
      "Some physical parameters...\n",
      "\n",
      "n_plasma =  4e+22  [m^-3]\n",
      "lambda_p =  166.9471636350277  [microns]\n",
      "R_drive_rms =  10.62818653107447  [microns]\n",
      "Z_drive_rms =  31.884559593223404  [microns]\n",
      "drive_Q =  3.0  [nC]\n",
      "n_beam_peak_rms =  8.274318570057662e+23  [m^-3]\n",
      "n_beam/n_plasma =  20.685796425144154\n",
      " \n",
      "Delta_z =  1.5942279796611702 [microns]\n",
      "Delta_r =  2.5932775135821706 [microns]\n",
      "Nz =  209\n",
      "Nr =  64\n",
      "Nsteps =  281\n"
     ]
    }
   ],
   "source": [
    "## Domain physical parameters\n",
    "print(\"Some physical parameters...\\n\")\n",
    "\n",
    "## Plasma channel parameters\n",
    "n_plasma = 4.e16  # cm^-3\n",
    "\n",
    "# convert to per cubic meter\n",
    "n_plasma *= 100**3\n",
    "print(\"n_plasma = \", n_plasma, \" [m^-3]\")\n",
    "\n",
    "# derived plasma quantities\n",
    "omega_p = np.sqrt(n_plasma*constants.elementary_charge**2/(constants.m_e*constants.epsilon_0))\n",
    "k_p = omega_p/constants.c\n",
    "\n",
    "lambda_p = 2.*np.pi/k_p\n",
    "print(\"lambda_p = \", lambda_p*1.e6, \" [microns]\")\n",
    "\n",
    "## Beam parameters\n",
    "# Drive bunch is gaussian\n",
    "# drive_sigma_r = 3.65e-6  # meters\n",
    "drive_sigma_r = 0.4 / k_p  # meters\n",
    "print(\"R_drive_rms = \", drive_sigma_r*1.e6, \" [microns]\")\n",
    "\n",
    "# drive_sigma_z = 12.77e-6  # meters\n",
    "drive_sigma_z = 1.2 / k_p\n",
    "print(\"Z_drive_rms = \", drive_sigma_z*1.e6, \" [microns]\")\n",
    "\n",
    "# drive_Q = 1.e10*(-1.*constants.elementary_charge)   # Coulombs\n",
    "drive_Q = 3.e-9   # Coulombs\n",
    "print(\"drive_Q = \", drive_Q*1.e9, \" [nC]\")\n",
    "\n",
    "# Calculate peak beam density\n",
    "drive_volume_rms = 2.*np.pi*drive_sigma_z*drive_sigma_r**2\n",
    "drive_dens_rms = drive_Q/np.abs(constants.elementary_charge)/drive_volume_rms\n",
    "print(\"n_beam_peak_rms = \", drive_dens_rms, \" [m^-3]\")\n",
    "print(\"n_beam/n_plasma = \", drive_dens_rms/n_plasma)\n",
    "\n",
    "drive_N_macro = 16000\n",
    "drive_gamma = 1.957e+4\n",
    "\n",
    "# Witness bunch, also gaussian\n",
    "witness_sigma_r = 2.e-6 #meters\n",
    "witness_sigma_z = 6.e-6  # meters\n",
    "witness_Q = 1.e-10*(-1.*constants.elementary_charge)   # Coulombs\n",
    "witness_N_macro = 1600\n",
    "witness_gamma = 100\n",
    "\n",
    "trailing_distance = 150.e-6 # meters\n",
    "\n",
    "## Domain parameters\n",
    "\n",
    "# Domain size, include the whole thing and some trailing distance\n",
    "domain_length = 2.*lambda_p  # meters\n",
    "domain_radius = lambda_p  # meters\n",
    "\n",
    "# Grid size, resolve the drive bunch\n",
    "Delta_r = min(0.244*drive_sigma_r, 0.2*lambda_p)  # meters\n",
    "Delta_z = min(Delta_r, min(0.05*drive_sigma_z, 0.1*lambda_p))  # meters\n",
    "print(\" \")\n",
    "print(\"Delta_z = \", Delta_z*1e6, \"[microns]\")\n",
    "print(\"Delta_r = \", Delta_r*1e6, \"[microns]\")\n",
    "\n",
    "# Derived quantities\n",
    "Nz = int(np.rint(domain_length/Delta_z))\n",
    "Nr = int(np.rint(domain_radius/Delta_r))\n",
    "print(\"Nz = \", Nz)\n",
    "print(\"Nr = \", Nr)\n",
    "\n",
    "dt = (np.sqrt((Delta_z**2 + Delta_r**2))/constants.c)  # sec\n",
    "\n",
    "# start the ramp after the drive bunch has existed a while\n",
    "ramp_start = domain_length\n",
    "ramp_length = 5.*drive_sigma_z\n",
    "\n",
    "# We want to run the simulation just long enough for the fields to form behind the drive bunch\n",
    "sim_time = 2.5*domain_length/constants.c\n",
    "\n",
    "dump_period = ( int(sim_time/dt) + 8 ) / 8\n",
    "Nsteps = 8*dump_period+1\n",
    "print(\"Nsteps = \", Nsteps)\n",
    "\n",
    "# Simplest case -- cylindrical symmetry\n",
    "Nm = 1"
   ]
  },
  {
   "cell_type": "markdown",
   "metadata": {},
   "source": [
    "***\n",
    "## The Simulation\n",
    "\n",
    "The FBPIC simulation is started in the cell below.\n",
    "***"
   ]
  },
  {
   "cell_type": "code",
   "execution_count": 4,
   "metadata": {
    "scrolled": true
   },
   "outputs": [
    {
     "name": "stdout",
     "output_type": "stream",
     "text": [
      "\n",
      "FBPIC (0.10.1)\n",
      "\n",
      "MPI available: Yes\n",
      "MPI processes used: 1\n",
      "MPI Library Information: \n",
      "Open MPI v2.1.1, package: Open MPI mockbuild@buildhw-10.phx2.fedoraproject.org Distribution, ident: 2.1.1, repo rev: v2.1.0-100-ga2fdb5b, May 10, 2017\u0000\n",
      "CUDA available: No\n",
      "Compute architecture: CPU\n",
      "CPU multi-threading enabled: Yes\n",
      "Threads: 40\n",
      "FFT library: pyFFTW\n",
      "\n",
      "PSATD stencil order: infinite\n",
      "Particle shape: linear\n",
      "Longitudinal boundaries: open\n",
      "Transverse boundaries: reflective\n",
      "Guard region size: 64 cells\n",
      "Damping region size: 64 cells\n",
      "Injection region size: 32 cells\n",
      "Particle exchange period: every 7 step\n",
      "Boosted frame: False\n",
      "\n",
      "Calculating initial space charge field...\n",
      "Done.\n",
      "\n",
      "Calculating initial space charge field...\n",
      "Done.\n",
      "\n",
      "|███████████████████████████████████| 281/281, 0:00:00 left, 619 ms/step\u001b[K\n",
      "Total time taken (with compilation): 0:03:12\n",
      "Average time per iteration (with compilation): 685 ms\n",
      "\n"
     ]
    }
   ],
   "source": [
    "# remove old data, if necessary\n",
    "if os.path.exists('./diags/hdf5'):\n",
    "    shutil.rmtree('./diags/hdf5')\n",
    "\n",
    "# Create a field smoother\n",
    "n_passes_z=1\n",
    "n_passes_r=1\n",
    "dict_pass = {\"z\": n_passes_z, \"r\": n_passes_r}\n",
    "comp_z = False\n",
    "comp_r = False\n",
    "dict_comp = {\"z\": comp_z, \"r\": comp_r}\n",
    "my_smoother=BinomialSmoother(n_passes=dict_pass, compensator=dict_comp)\n",
    "\n",
    "# Create the simulation\n",
    "my_sim = Simulation(Nz, domain_length, Nr, domain_radius, Nm, dt, \n",
    "                    boundaries='open', particle_shape='linear', verbose_level=2,\n",
    "                    n_order=-1, smoother=my_smoother, current_correction=\"curl-free\")\n",
    "\n",
    "# By default the simulation initializes an electron species (my_sim.ptcl[0])\n",
    "# Because we did not pass the arguments `n`, `p_nz`, `p_nr`, `p_nz`,\n",
    "# this electron species does not contain any macroparticles.\n",
    "# It is okay to just remove it from the list of species.\n",
    "my_sim.ptcl = []\n",
    "\n",
    "# create the uniform density function for the plasma electrons\n",
    "def dens_func_elec(z, r) :\n",
    "    \"\"\"Returns relative density at position z and r\"\"\"\n",
    "    # Allocate relative density\n",
    "    n = np.ones_like(z)\n",
    "    # Make linear ramp\n",
    "    n = np.where( z < ramp_start + ramp_length, (z-ramp_start)/ramp_length, n )\n",
    "    # Supress density before the ramp\n",
    "    n = np.where( z < domain_length + ramp_start, 0., n )\n",
    "    return(n)\n",
    "\n",
    "# plasma electrons\n",
    "e_plasma = my_sim.add_new_species(q = -1.*constants.elementary_charge,\n",
    "                                  m = constants.electron_mass,\n",
    "                                  dens_func = dens_func_elec, \n",
    "                                  n = n_plasma, p_nz=4, p_nr=4, p_nt = 4*Nm)\n",
    "\n",
    "# add the Gaussian drive beam\n",
    "add_elec_bunch_gaussian(my_sim, \n",
    "                        sig_r = drive_sigma_r, \n",
    "                        sig_z = drive_sigma_z, \n",
    "                        n_emit=0., \n",
    "                        gamma0=drive_gamma, \n",
    "                        sig_gamma=1.,\n",
    "                        Q=drive_Q, \n",
    "                        N=drive_N_macro, \n",
    "                        tf=0.0, \n",
    "                        zf=.75*domain_length, boost=None)\n",
    "\n",
    "# add the witness bunch\n",
    "add_elec_bunch_gaussian(my_sim, \n",
    "                        sig_r = witness_sigma_r, \n",
    "                        sig_z = witness_sigma_z, \n",
    "                        n_emit=0., \n",
    "                        gamma0=drive_gamma, \n",
    "                        sig_gamma=1.,\n",
    "                        Q=witness_Q, \n",
    "                        N=witness_N_macro, \n",
    "                        tf=0.0, \n",
    "                        zf=.75*domain_length-trailing_distance, boost=None)\n",
    "\n",
    "# create the uniform density function for the plasma ions\n",
    "def dens_func_ions(z, r) :\n",
    "    \"\"\"Returns relative density at position z and r\"\"\"\n",
    "    # Allocate relative density\n",
    "    n = np.ones_like(z)\n",
    "    # Make linear ramp\n",
    "    n = np.where( z < ramp_start + ramp_length, (z-ramp_start)/ramp_length, n )\n",
    "    # Supress density before the ramp\n",
    "    n = np.where( z < domain_length + ramp_start, 0., n )\n",
    "    # Confine ions to be near the axis (the only ones that will move)\n",
    "    n = np.where( r < 2.*drive_sigma_r, n, 0. )\n",
    "    return(n)\n",
    "\n",
    "# plasma ions\n",
    "use_protons = False\n",
    "if use_protons:\n",
    "    protons = my_sim.add_new_species(q = constants.elementary_charge,\n",
    "                                     m = constants.proton_mass,\n",
    "                                     dens_func = dens_func_elec, \n",
    "                                     n = n_plasma, p_nz=4, p_nr=4, \n",
    "                                     p_nt = 4*Nm)\n",
    "\n",
    "# Set the moving window\n",
    "my_sim.set_moving_window(v = constants.c)\n",
    "\n",
    "# Add diagnostics\n",
    "if use_protons:\n",
    "    my_sim.diags = [FieldDiagnostic(dump_period, my_sim.fld, comm=my_sim.comm),\n",
    "                    ParticleDiagnostic(dump_period,\n",
    "                            {\"plasma\": e_plasma, \"beam\": my_sim.ptcl[1], \n",
    "                             \"witness\": my_sim.ptcl[2], \"protons\": protons},\n",
    "                             comm=my_sim.comm),\n",
    "                    ParticleChargeDensityDiagnostic(dump_period, my_sim,\n",
    "                            {\"plasma\": e_plasma, \"beam\": my_sim.ptcl[1], \n",
    "                             \"witness\": my_sim.ptcl[2], \"protons\": protons})\n",
    "    ]\n",
    "else:\n",
    "    my_sim.diags = [FieldDiagnostic(dump_period, my_sim.fld, comm=my_sim.comm),\n",
    "                    ParticleDiagnostic(dump_period,\n",
    "                            {\"plasma\": e_plasma, \"beam\": my_sim.ptcl[1], \n",
    "                             \"witness\": my_sim.ptcl[2]},\n",
    "                             comm=my_sim.comm),\n",
    "                    ParticleChargeDensityDiagnostic(dump_period, my_sim,\n",
    "                            {\"plasma\": e_plasma, \"beam\": my_sim.ptcl[1], \n",
    "                             \"witness\": my_sim.ptcl[2]})\n",
    "    ]\n",
    "\n",
    "# run the simulation\n",
    "my_sim.step(Nsteps)"
   ]
  },
  {
   "cell_type": "code",
   "execution_count": 5,
   "metadata": {},
   "outputs": [],
   "source": [
    "# read the data\n",
    "file = h5py.File('./diags/hdf5/data00000280.h5','r')\n",
    "data = file.get('data/')\n",
    "step = data.get('280')\n",
    "ptcls = step.get('particles')\n",
    "electrons = ptcls.get('plasma')\n",
    "pos = electrons.get('position')\n",
    "\n",
    "fields = step.get('fields')\n",
    "rho = fields.get('rho')\n",
    "\n",
    "# convert to number density\n",
    "therho = rho[0,:,:]/constants.elementary_charge\n",
    "# convert to cm^-3\n",
    "therho /= 100.**3\n",
    "\n",
    "Es = fields.get('E')\n",
    "Ez = Es.get('z')\n",
    "Er = Es.get('r')\n",
    "theEz = Ez[0,:,:]\n",
    "theEr = Er[0,:,:]\n",
    "\n",
    "Bs = fields.get('B')\n",
    "Bt = Bs.get('t')\n",
    "theBt = Bt[0,:,:]\n",
    "\n",
    "x = pos.get('x')\n",
    "y = pos.get('y')\n",
    "z = pos.get('z')\n",
    "\n",
    "xPos = x[:]\n",
    "yPos = y[:]\n",
    "z = z[:]\n",
    "r = np.sqrt(xPos**2 + yPos**2)\n",
    "\n",
    "file.close()"
   ]
  },
  {
   "cell_type": "markdown",
   "metadata": {},
   "source": [
    "***\n",
    "Plotting\n",
    "***"
   ]
  },
  {
   "cell_type": "code",
   "execution_count": 6,
   "metadata": {},
   "outputs": [],
   "source": [
    "%matplotlib widget\n",
    "import matplotlib.pyplot as plt\n",
    "import matplotlib.colors as colors\n",
    "\n",
    "class MidpointNormalize(colors.Normalize):\n",
    "    \"\"\"\n",
    "    Normalise the colorbar so that diverging bars work there way either side from a prescribed midpoint value)\n",
    "\n",
    "    e.g. im=ax1.imshow(array, norm=MidpointNormalize(midpoint=0.,vmin=-100, vmax=100))\n",
    "    \"\"\"\n",
    "    def __init__(self, vmin=None, vmax=None, midpoint=None, clip=False):\n",
    "        self.midpoint = midpoint\n",
    "        colors.Normalize.__init__(self, vmin, vmax, clip)\n",
    "\n",
    "    def __call__(self, value, clip=None):\n",
    "        # I'm ignoring masked values and all kinds of edge cases to make a\n",
    "        # simple example...\n",
    "        x, y = [self.vmin, self.midpoint, self.vmax], [0, 0.5, 1]\n",
    "        return np.ma.masked_array(np.interp(value, x, y), np.isnan(value))"
   ]
  },
  {
   "cell_type": "code",
   "execution_count": 7,
   "metadata": {},
   "outputs": [
    {
     "data": {
      "application/vnd.jupyter.widget-view+json": {
       "model_id": "c3f15b9beaf54fcf8cb186485e07c267",
       "version_major": 2,
       "version_minor": 0
      },
      "text/plain": [
       "FigureCanvasNbAgg()"
      ]
     },
     "metadata": {},
     "output_type": "display_data"
    }
   ],
   "source": [
    "Rads = np.linspace(0., domain_radius, Nr)\n",
    "zeta = np.linspace(0., domain_length, Nz)\n",
    "\n",
    "# move zeta so zero is centered on the drive bunch\n",
    "z_avg = np.average(z)\n",
    "z_avg -= constants.c * dt*(Nsteps-1)\n",
    "\n",
    "zeta -= z_avg\n",
    "\n",
    "zz, RR = np.meshgrid(zeta, Rads)\n",
    "\n",
    "fig = plt.figure()\n",
    "\n",
    "plt.imshow(therho,extent=[k_p*zeta[0],k_p*zeta[-1], k_p*Rads[0], k_p*Rads[-1]], cmap='viridis', origin='lower')\n",
    "plt.xlabel(r'$k_p \\zeta$')\n",
    "plt.ylabel(r'$r \\quad [\\mu m]$')\n",
    "cbar = plt.colorbar(orientation='horizontal')\n",
    "cbar.set_label(r'$n_e \\quad [cm^{-3}]$')\n",
    "\n",
    "plt.tight_layout()\n",
    "\n",
    "plt.savefig('rho.png')\n"
   ]
  },
  {
   "cell_type": "code",
   "execution_count": 8,
   "metadata": {},
   "outputs": [
    {
     "data": {
      "application/vnd.jupyter.widget-view+json": {
       "model_id": "98c29ed7a0344a948ad71b03865a26d0",
       "version_major": 2,
       "version_minor": 0
      },
      "text/plain": [
       "FigureCanvasNbAgg()"
      ]
     },
     "metadata": {},
     "output_type": "display_data"
    }
   ],
   "source": [
    "fig = plt.figure()\n",
    "\n",
    "# Fix the midpoint to zero field\n",
    "\n",
    "ezmax = np.amax(theEz*1.e-9)\n",
    "ezmin = np.amin(theEz*1.e-9)\n",
    "ezavg = 0.\n",
    "\n",
    "plt.imshow(theEz*1.e-9,extent=[k_p*zeta[0], k_p*zeta[-1], k_p*Rads[0], k_p*Rads[-1]], \n",
    "           cmap='RdBu', origin='lower', norm=MidpointNormalize(midpoint=ezavg,vmin=ezmin, vmax=ezmax))\n",
    "plt.xlabel(r'$k_p \\zeta$')\n",
    "plt.ylabel(r'$k_p r$')\n",
    "cbar = plt.colorbar(orientation='horizontal')\n",
    "cbar.set_label(r'$E_z \\quad [GV/m]$')\n",
    "\n",
    "plt.savefig('Ez.png')\n"
   ]
  },
  {
   "cell_type": "code",
   "execution_count": 9,
   "metadata": {},
   "outputs": [
    {
     "data": {
      "application/vnd.jupyter.widget-view+json": {
       "model_id": "3d1aaf54a1464770b811adb5527a3a4f",
       "version_major": 2,
       "version_minor": 0
      },
      "text/plain": [
       "FigureCanvasNbAgg()"
      ]
     },
     "metadata": {},
     "output_type": "display_data"
    },
    {
     "data": {
      "text/plain": [
       "Text(0,0.5,'$E_z$ [GV/m]')"
      ]
     },
     "execution_count": 9,
     "metadata": {},
     "output_type": "execute_result"
    }
   ],
   "source": [
    "fig = plt.figure()\n",
    "\n",
    "Ez_lineout = theEz[1,:]*1.e-9\n",
    "\n",
    "plt.plot(k_p* zeta, Ez_lineout)\n",
    "plt.xlabel(r'$k_p \\zeta$')\n",
    "plt.ylabel(r'$E_z$ [GV/m]')\n"
   ]
  },
  {
   "cell_type": "code",
   "execution_count": 10,
   "metadata": {},
   "outputs": [
    {
     "data": {
      "application/vnd.jupyter.widget-view+json": {
       "model_id": "de4e45c2095a47bf801903b7d6366b5c",
       "version_major": 2,
       "version_minor": 0
      },
      "text/plain": [
       "FigureCanvasNbAgg()"
      ]
     },
     "metadata": {},
     "output_type": "display_data"
    }
   ],
   "source": [
    "fig = plt.figure()\n",
    "\n",
    "Fr = (theEr - constants.speed_of_light*(theBt))*1.e-9\n",
    "\n",
    "frmax = np.amax(Fr)\n",
    "frmin = np.amin(Fr)\n",
    "fravg = 0.\n",
    "\n",
    "plt.imshow(Fr,extent=[k_p*zeta[0], k_p*zeta[-1], k_p*Rads[0], k_p*Rads[-1]], \n",
    "           cmap='RdBu', origin='lower', norm=MidpointNormalize(midpoint=fravg,vmin=frmin, vmax=frmax))\n",
    "plt.xlabel(r'$\\zeta = z - c t \\quad [\\mu m]$')\n",
    "plt.ylabel(r'$r \\quad [\\mu m]$')\n",
    "cbar = plt.colorbar(orientation='horizontal')\n",
    "cbar.set_label(r'$E_r - c B_\\theta \\quad [GV/m]$')\n",
    "plt.title(r'Transverse force $E_r - c B_\\theta$')\n",
    "plt.tight_layout()\n",
    "\n",
    "plt.savefig('Fr.png')"
   ]
  },
  {
   "cell_type": "markdown",
   "metadata": {},
   "source": [
    "***\n",
    "## References\n",
    "\n",
    "> 1. C. B. Schroeder, D. H. Whittum, and J. S. Wurtele, \"Multimode Analysis of the Hollow Plasma Channel Wakefield Accelerator\", _Phys. Rev. Lett._ __82__, 1177 (1999). [https://doi.org/10.1103/PhysRevLett.82.1177](https://doi.org/10.1103/PhysRevLett.82.1177)\n",
    "\n",
    "> 2. R. Lehe, M. Kirchen, I. A. Andriyash, B. B. Godfrey, and J.-L. Vay, \"A spectral, quasi-cylindrical and dispersion-free Particle-In-Cell algorithm\", _Comp. Phys. Comm._ __203__, pp. 66-82 (2016). [https://doi.org/10.1016/j.cpc.2016.02.007](https://doi.org/10.1016/j.cpc.2016.02.007)\n",
    "\n",
    "> 3. C. Joshi _et al._ \"Plasma wakefield acceleration experiments at FACET II\", _Plasma Phys. Control. Fusion_ __60__, 3 (2018).\n",
    "\n",
    "> 4. A. W. Chao, \"Physics of Collective Beam Instabilities in High Energy Accelerators\", John Wiley & Sons (1993)\n",
    "\n",
    "> 5. C. A. Lindstrom _et al._ \"Measurement of Transverse Wakefields Induced by a Misaligned Positron Bunch in a Hollow Channel Plasma Accelerator\", _Phys. Rev. Lett._ __120__, 124802 (2018)."
   ]
  },
  {
   "cell_type": "code",
   "execution_count": null,
   "metadata": {},
   "outputs": [],
   "source": []
  }
 ],
 "metadata": {
  "kernelspec": {
   "display_name": "Python 2",
   "language": "python",
   "name": "py2"
  },
  "language_info": {
   "codemirror_mode": {
    "name": "ipython",
    "version": 2
   },
   "file_extension": ".py",
   "mimetype": "text/x-python",
   "name": "python",
   "nbconvert_exporter": "python",
   "pygments_lexer": "ipython2",
   "version": "2.7.14"
  }
 },
 "nbformat": 4,
 "nbformat_minor": 2
}
